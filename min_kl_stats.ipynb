{
 "cells": [
  {
   "cell_type": "markdown",
   "metadata": {},
   "source": [
    "## Load Data"
   ]
  },
  {
   "cell_type": "code",
   "execution_count": null,
   "metadata": {},
   "outputs": [],
   "source": [
    "import pandas as pd\n",
    "min_kls = pd.read_csv('test-kl-figures/min_kls.csv', index_col=[0, 1, 2])\n",
    "min_kls.columns.name = 'Algorithm'\n",
    "min_kls.info()\n",
    "min_kls.head()"
   ]
  },
  {
   "cell_type": "markdown",
   "metadata": {},
   "source": [
    "### Error checking\n",
    "* Since minimum-finding function (`scipy.optimize.minimize_scalar`) was bounded by (0, 100), should check if the minimum actually lies beyond 100 for any embedding"
   ]
  },
  {
   "cell_type": "code",
   "execution_count": null,
   "metadata": {},
   "outputs": [],
   "source": [
    "((min_kls.loc[:, :, 'x'] > 95)).any().any()"
   ]
  },
  {
   "cell_type": "markdown",
   "metadata": {},
   "source": [
    "## KL Statistics of Each Algorithm"
   ]
  },
  {
   "cell_type": "code",
   "execution_count": null,
   "metadata": {},
   "outputs": [],
   "source": [
    "kl_stats = min_kls.groupby(level=['Coord']).agg([pd.Series.min, pd.Series.max, pd.Series.mean, pd.Series.std, pd.Series.median]).T\n",
    "kl_stats.index.rename('Statistic', level=1, inplace=True)\n",
    "\n",
    "colors = {\n",
    "     \"min\": \"background-color: #2F2D2E; color: white\",\n",
    "    \"max\": \"background-color: #808080; color: white\",\n",
    "    \"mean\": \"background-color: #536878; color: white\",\n",
    "    \"std\": \"background-color: #493D31; color: white\",\n",
    "    \"median\": \"background-color: #323F48: color: white\",\n",
    "}\n",
    "\n",
    "\n",
    "def make_pretty(styler):\n",
    "    styler.set_caption('Statistics')\n",
    "    styler.apply(lambda row : [colors.get(row.name[1], \"\")] * len(row), axis=1)\n",
    "    styler.map_index(lambda stat : colors.get(stat, \"\"), axis=0, level=1)\n",
    "    styler.set_table_styles(\n",
    "    [{'selector': 'td, th', 'props': [('border', '1px solid black')]}]\n",
    ")\n",
    "    return styler\n",
    "\n",
    "# Apply the Styler\n",
    "kl_stats.style.pipe(make_pretty)"
   ]
  },
  {
   "cell_type": "markdown",
   "metadata": {},
   "source": [
    "## Order preservation"
   ]
  },
  {
   "cell_type": "markdown",
   "metadata": {},
   "source": [
    "##### **Where is t-SNE not the best algorithm?**"
   ]
  },
  {
   "cell_type": "code",
   "execution_count": null,
   "metadata": {},
   "outputs": [],
   "source": [
    "kl_values = min_kls.loc[:, :, 'y'].copy()\n",
    "kl_values['Best Algorithm'] = kl_values.idxmin(axis=1, skipna=True)\n",
    "kl_values[kl_values['Best Algorithm'] != 'TSNE']"
   ]
  },
  {
   "cell_type": "markdown",
   "metadata": {},
   "source": [
    "##### **Where is the expected order of `t-SNE < UMAP < MDS < Random` not preserved?**"
   ]
  },
  {
   "cell_type": "code",
   "execution_count": null,
   "metadata": {},
   "outputs": [],
   "source": [
    "kl_values[(kl_values['TSNE'] > kl_values['UMAP']) | (kl_values['UMAP'] > kl_values['MDS']) | (kl_values['MDS'] > kl_values['RANDOM'])]"
   ]
  }
 ],
 "metadata": {
  "kernelspec": {
   "display_name": "islp",
   "language": "python",
   "name": "python3"
  },
  "language_info": {
   "codemirror_mode": {
    "name": "ipython",
    "version": 3
   },
   "file_extension": ".py",
   "mimetype": "text/x-python",
   "name": "python",
   "nbconvert_exporter": "python",
   "pygments_lexer": "ipython3",
   "version": "3.12.5"
  }
 },
 "nbformat": 4,
 "nbformat_minor": 2
}
