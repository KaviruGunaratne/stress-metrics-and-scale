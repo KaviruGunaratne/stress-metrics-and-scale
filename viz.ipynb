{
 "cells": [
  {
   "cell_type": "code",
   "execution_count": null,
   "metadata": {},
   "outputs": [],
   "source": [
    "import numpy as np\n",
    "import pylab as plt\n",
    "from metrics import *"
   ]
  },
  {
   "cell_type": "code",
   "execution_count": null,
   "metadata": {},
   "outputs": [],
   "source": [
    "import os\n",
    "if not os.path.isdir(\"figs\"):\n",
    "    os.mkdir(\"figs\")"
   ]
  },
  {
   "cell_type": "code",
   "execution_count": null,
   "metadata": {},
   "outputs": [],
   "source": [
    "X = np.load('datasets/iris.npy')\n",
    "Y = np.load('embeddings/iris_MDS_0.npy')\n",
    "\n",
    "M = Metrics(X, Y)\n",
    "\n",
    "scale_opt, alpha_opt = M.compute_scale_normalized_stress(return_alpha=True)\n",
    "\n",
    "rrange = np.linspace(0, 2.5, 250)\n",
    "\n",
    "# Initialize lists for each type of score\n",
    "norm_stress_scores = list()\n",
    "raw_stress_scores = list()\n",
    "\n",
    "for alpha in rrange:\n",
    "    M.setY(alpha * Y)\n",
    "    norm_stress_scores.append(M.compute_normalized_stress())\n",
    "    raw_stress_scores.append(M.compute_raw_stress())\n",
    "\n",
    "# Create a figure and a 1x2 subplot\n",
    "fig, axs = plt.subplots(1, 2, figsize=(15, 5), sharex=True)\n",
    "\n",
    "# Plot raw stress scores\n",
    "axs[0].plot(rrange, raw_stress_scores, linewidth=2)\n",
    "axs[0].scatter(rrange[np.argmin(raw_stress_scores)],\n",
    "               min(raw_stress_scores))\n",
    "axs[0].set_title('Raw stress')\n",
    "\n",
    "# Plot normalized stress scores\n",
    "axs[1].plot(rrange, norm_stress_scores, linewidth=2)\n",
    "axs[1].scatter(alpha_opt, scale_opt)\n",
    "axs[1].set_title('Normalized stress')\n",
    "\n",
    "# Set common labels\n",
    "fig.text(0.5, 0.01, 'Scale value', ha='center', va='center')\n",
    "fig.text(0.06, 0.5, 'Stress value', ha='center',\n",
    "         va='center', rotation='vertical')\n",
    "\n",
    "plt.savefig(\"./figs/figure_2.pdf\", format='pdf')"
   ]
  }
 ],
 "metadata": {
  "language_info": {
   "name": "python"
  }
 },
 "nbformat": 4,
 "nbformat_minor": 2
}
