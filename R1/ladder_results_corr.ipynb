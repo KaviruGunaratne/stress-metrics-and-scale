{
 "cells": [
  {
   "cell_type": "code",
   "execution_count": 1,
   "id": "7e84a618",
   "metadata": {},
   "outputs": [],
   "source": [
    "import json\n",
    "import os\n",
    "from pathlib import Path\n",
    "import pandas as pd\n",
    "from scipy.stats import spearmanr"
   ]
  },
  {
   "cell_type": "code",
   "execution_count": 2,
   "id": "3f31ecb9",
   "metadata": {},
   "outputs": [],
   "source": [
    "json_path = \"./ladder_results.json\"\n",
    "\n",
    "with open(json_path, \"r\", encoding=\"utf-8\") as f:\n",
    "    data = json.load(f)"
   ]
  },
  {
   "cell_type": "code",
   "execution_count": 3,
   "id": "a034df80",
   "metadata": {},
   "outputs": [],
   "source": [
    "meta = data.get(\"meta\", {})\n",
    "rows = data.get(\"results\", [])\n",
    "df = pd.DataFrame(rows)"
   ]
  },
  {
   "cell_type": "code",
   "execution_count": 4,
   "id": "7b118735",
   "metadata": {},
   "outputs": [],
   "source": [
    "out_dir = Path(\"./results\")\n",
    "out_dir.mkdir(parents=True, exist_ok=True)"
   ]
  },
  {
   "cell_type": "code",
   "execution_count": 5,
   "id": "65a752f9",
   "metadata": {},
   "outputs": [],
   "source": [
    "def spearman_rho(x, y):\n",
    "    x = pd.to_numeric(pd.Series(x), errors=\"coerce\")\n",
    "    y = pd.to_numeric(pd.Series(y), errors=\"coerce\")\n",
    "    return float(spearmanr(x, y, nan_policy=\"omit\").correlation)"
   ]
  },
  {
   "cell_type": "code",
   "execution_count": 6,
   "id": "45866649",
   "metadata": {},
   "outputs": [],
   "source": [
    "def spearman_per_group(g, metric):\n",
    "    x = pd.to_numeric(g[\"shuffle_frac\"], errors=\"coerce\")\n",
    "    y = pd.to_numeric(g[metric], errors=\"coerce\")\n",
    "    return float(spearmanr(x, y, nan_policy=\"omit\").correlation)"
   ]
  },
  {
   "cell_type": "code",
   "execution_count": 7,
   "id": "065aa77a",
   "metadata": {},
   "outputs": [
    {
     "name": "stderr",
     "output_type": "stream",
     "text": [
      "/var/folders/y6/1d6nhf8n2hqfq_qz0hk_hpfr0000gn/T/ipykernel_61302/332709423.py:4: DeprecationWarning: DataFrameGroupBy.apply operated on the grouping columns. This behavior is deprecated, and in a future version of pandas the grouping columns will be excluded from the operation. Either pass `include_groups=False` to exclude the groupings or explicitly select the grouping columns after groupby to silence this warning.\n",
      "  .apply(lambda g: pd.Series({\n"
     ]
    }
   ],
   "source": [
    "# Compute per dataset\n",
    "spearman_ds_alg = (\n",
    "    df.groupby([\"dataset\", \"alg\"], dropna=False)\n",
    "      .apply(lambda g: pd.Series({\n",
    "          \"rho_NS\": spearman_per_group(g, \"NS\"),\n",
    "          \"rho_SNS\": spearman_per_group(g, \"SNS\")\n",
    "      }))\n",
    "      .reset_index()\n",
    ")\n",
    "\n",
    "by_dataset_csv = os.path.join(out_dir, \"spearman_by_dataset.csv\")\n",
    "spearman_ds_alg.to_csv(by_dataset_csv, index=False)"
   ]
  },
  {
   "cell_type": "code",
   "execution_count": 8,
   "id": "e2fb4dc1",
   "metadata": {},
   "outputs": [],
   "source": [
    "# Compute median across datasets\n",
    "spearman_median = (\n",
    "    spearman_ds_alg.groupby(\"alg\", dropna=False)[[\"rho_NS\", \"rho_SNS\"]]\n",
    "                   .median()\n",
    "                   .reset_index()\n",
    "                   .sort_values(\"alg\")\n",
    ")\n",
    "\n",
    "median_csv = os.path.join(out_dir, \"spearman_median_by_alg.csv\")\n",
    "spearman_median.to_csv(median_csv, index=False)"
   ]
  }
 ],
 "metadata": {
  "kernelspec": {
   "display_name": "dr-metrics",
   "language": "python",
   "name": "python3"
  },
  "language_info": {
   "codemirror_mode": {
    "name": "ipython",
    "version": 3
   },
   "file_extension": ".py",
   "mimetype": "text/x-python",
   "name": "python",
   "nbconvert_exporter": "python",
   "pygments_lexer": "ipython3",
   "version": "3.12.0"
  }
 },
 "nbformat": 4,
 "nbformat_minor": 5
}
