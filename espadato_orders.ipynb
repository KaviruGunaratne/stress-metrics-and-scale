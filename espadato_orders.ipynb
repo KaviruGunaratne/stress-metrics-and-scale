{
 "cells": [
  {
   "cell_type": "code",
   "execution_count": 1,
   "metadata": {},
   "outputs": [],
   "source": [
    "import numpy as np\n",
    "import os "
   ]
  },
  {
   "cell_type": "code",
   "execution_count": 2,
   "metadata": {},
   "outputs": [],
   "source": [
    "from metrics import Metrics"
   ]
  },
  {
   "cell_type": "code",
   "execution_count": 3,
   "metadata": {},
   "outputs": [
    {
     "data": {
      "text/plain": [
       "array([[-2.89449803, -0.69806495],\n",
       "       [-1.71518905,  1.77076763],\n",
       "       [ 0.99297539,  2.65867469],\n",
       "       ...,\n",
       "       [-0.07937171,  2.66296258],\n",
       "       [-0.4830813 ,  1.8602756 ],\n",
       "       [-3.42261179,  0.89451988]])"
      ]
     },
     "execution_count": 3,
     "metadata": {},
     "output_type": "execute_result"
    }
   ],
   "source": [
    "np.loadtxt('projections/proj_X_bank_MDS.csv', delimiter=',')"
   ]
  },
  {
   "cell_type": "code",
   "execution_count": 6,
   "metadata": {},
   "outputs": [],
   "source": [
    "small_data = [\"auto-mpg.npy\", \"iris.npy\", \"penguins.npy\", \"s-curve.npy\", \"swissroll.npy\", \"wine.npy\"]"
   ]
  },
  {
   "cell_type": "code",
   "execution_count": 7,
   "metadata": {},
   "outputs": [],
   "source": [
    "results = dict()\n",
    "results_scale = dict()\n",
    "for dataFname in os.listdir(\"datasets\"):\n",
    "    if \"spam\" in dataFname: continue\n",
    "    if dataFname in small_data: continue\n",
    "    X = np.load(f'datasets/{dataFname}')\n",
    "    dataname = dataFname.split(\".\")[0]\n",
    "\n",
    "    results[dataname] = dict()\n",
    "    results_scale[dataname] = dict()\n",
    "    for alg in [\"T-SNE\", \"MDS\", \"UMAP\", \"LLE\", \"ISO\"]:\n",
    "\n",
    "        Y = np.loadtxt(f'projections/proj_X_{dataname}_{alg}.csv', delimiter=',')\n",
    "\n",
    "        M = Metrics(X,Y)\n",
    "        results[dataname][alg] = M.compute_normalized_stress()\n",
    "        results_scale[dataname][alg] = M.compute_scale_normalized_stress()\n"
   ]
  },
  {
   "cell_type": "code",
   "execution_count": 8,
   "metadata": {},
   "outputs": [
    {
     "data": {
      "text/plain": [
       "{'har': {'T-SNE': 3.7437275794387244,\n",
       "  'MDS': 0.18850760577954118,\n",
       "  'UMAP': 1.5225423619858391,\n",
       "  'LLE': 0.9923183852611865,\n",
       "  'ISO': 1.6159696370534893},\n",
       " 'cifar10': {'T-SNE': 1.7053708874089946,\n",
       "  'MDS': 0.2680166127840462,\n",
       "  'UMAP': 0.6453420904463467,\n",
       "  'LLE': 0.9971628860010159,\n",
       "  'ISO': 0.5857594788781639},\n",
       " 'orl': {'T-SNE': 2.104453827124266,\n",
       "  'MDS': 0.04423510574455848,\n",
       "  'UMAP': 27.149901620363117,\n",
       "  'LLE': 0.9883602163639552,\n",
       "  'ISO': 0.5851011578313979},\n",
       " 'epileptic': {'T-SNE': 16.71037753750601,\n",
       "  'MDS': 0.19368368797408272,\n",
       "  'UMAP': 115.85324833761882,\n",
       "  'LLE': 0.987055576358625,\n",
       "  'ISO': 0.6340626040444473},\n",
       " 'fmd': {'T-SNE': 0.9673144145818462,\n",
       "  'MDS': 0.4676925293615519,\n",
       "  'UMAP': 2.5265764085373474,\n",
       "  'LLE': 0.9931158782685754,\n",
       "  'ISO': 0.88225953104138},\n",
       " 'sentiment': {'T-SNE': 33.20669574507467,\n",
       "  'MDS': 0.3946739638994402,\n",
       "  'UMAP': 10.242821258711356,\n",
       "  'LLE': 0.977510666817704,\n",
       "  'ISO': 1.4373639889532839},\n",
       " 'fashion_mnist': {'T-SNE': 2.1378014532904555,\n",
       "  'MDS': 0.25189990968468606,\n",
       "  'UMAP': 0.4411983683843242,\n",
       "  'LLE': 0.9973577910024984,\n",
       "  'ISO': 1.4761250925414042},\n",
       " 'imdb': {'T-SNE': 0.4673304781381615,\n",
       "  'MDS': 0.42784630664557516,\n",
       "  'UMAP': 1.591886623087481,\n",
       "  'LLE': 0.9907341744785871,\n",
       "  'ISO': 0.7205218349239116},\n",
       " 'hatespeech': {'T-SNE': 30.12228830301812,\n",
       "  'MDS': 0.3916587272161506,\n",
       "  'UMAP': 12.159394711629686,\n",
       "  'LLE': 0.9792961667313246,\n",
       "  'ISO': 1.0199091222083583},\n",
       " 'cnae9': {'T-SNE': 23.39369867233093,\n",
       "  'MDS': 0.3318580688199728,\n",
       "  'UMAP': 6.965319303125379,\n",
       "  'LLE': 0.9889055825668148,\n",
       "  'ISO': 0.7401388985393017},\n",
       " 'seismic': {'T-SNE': 13.337292650025573,\n",
       "  'MDS': 0.2057717470634937,\n",
       "  'UMAP': 8.38079662682837,\n",
       "  'LLE': 0.9694842235439965,\n",
       "  'ISO': 3.5752088690376853},\n",
       " 'secom': {'T-SNE': 8.452142551976278,\n",
       "  'MDS': 0.3456288837985557,\n",
       "  'UMAP': 1.7194223266811808,\n",
       "  'LLE': 0.9915940060100789,\n",
       "  'ISO': 2.3597958821395113},\n",
       " 'hiva': {'T-SNE': 1.2984092585098237,\n",
       "  'MDS': 0.35328148206878973,\n",
       "  'UMAP': 0.7550020519207167,\n",
       "  'LLE': 0.9993699575830749,\n",
       "  'ISO': 0.8101909306775597},\n",
       " 'svhn': {'T-SNE': 2.1019509405361836,\n",
       "  'MDS': 0.19266484694088643,\n",
       "  'UMAP': 0.4553888249012519,\n",
       "  'LLE': 0.9926444315479535,\n",
       "  'ISO': 0.6927466212152249},\n",
       " 'coil20': {'T-SNE': 3.543213986207579,\n",
       "  'MDS': 0.3013800276706133,\n",
       "  'UMAP': 1.3696864206808999,\n",
       "  'LLE': 0.9943128503981172,\n",
       "  'ISO': 2.1152640639052978},\n",
       " 'sms': {'T-SNE': 1.0878693279006708,\n",
       "  'MDS': 0.36734719318498427,\n",
       "  'UMAP': 11.858332442555806,\n",
       "  'LLE': 0.9863875194488826,\n",
       "  'ISO': 0.8810311059650382},\n",
       " 'bank': {'T-SNE': 10.9064609406762,\n",
       "  'MDS': 0.35397038248652946,\n",
       "  'UMAP': 1.5305395326788651,\n",
       "  'LLE': 0.9890453925002815,\n",
       "  'ISO': 0.7594248037878817}}"
      ]
     },
     "execution_count": 8,
     "metadata": {},
     "output_type": "execute_result"
    }
   ],
   "source": [
    "results"
   ]
  },
  {
   "cell_type": "code",
   "execution_count": 10,
   "metadata": {},
   "outputs": [],
   "source": [
    "overall_results = {\n",
    "    \"normalized\": results, \n",
    "    \"scale-normalized\": results_scale\n",
    "}"
   ]
  },
  {
   "cell_type": "code",
   "execution_count": 11,
   "metadata": {},
   "outputs": [],
   "source": [
    "import json \n",
    "with open(\"espadato_rerun.json\", \"w\") as fdata:\n",
    "    json.dump(overall_results, fdata)"
   ]
  },
  {
   "cell_type": "code",
   "execution_count": 6,
   "metadata": {},
   "outputs": [],
   "source": [
    "import pandas as pd \n",
    "\n",
    "df = pd.DataFrame(results).transpose()"
   ]
  },
  {
   "cell_type": "code",
   "execution_count": 7,
   "metadata": {},
   "outputs": [],
   "source": [
    "orders = {dataset: sorted([(stress, alg) for alg,stress in pairs.items()]) for dataset,pairs in results.items()}\n",
    "orders = {dataset: [alg[1] for alg in pairs] for dataset,pairs in orders.items()}\n",
    "orders = dict(sorted(orders.items()))"
   ]
  },
  {
   "cell_type": "code",
   "execution_count": 8,
   "metadata": {},
   "outputs": [],
   "source": [
    "orders_scale = {dataset: sorted([(stress, alg) for alg,stress in pairs.items()]) for dataset,pairs in results_scale.items()}\n",
    "orders_scale = {dataset: [alg[1] for alg in pairs] for dataset,pairs in orders_scale.items()}\n",
    "orders_scale = dict(sorted(orders_scale.items()))"
   ]
  },
  {
   "cell_type": "code",
   "execution_count": 9,
   "metadata": {},
   "outputs": [
    {
     "data": {
      "text/plain": [
       "{'bank': ['MDS', 'T-SNE', 'ISO', 'UMAP', 'LLE'],\n",
       " 'cifar10': ['MDS', 'ISO', 'T-SNE', 'UMAP', 'LLE'],\n",
       " 'cnae9': ['MDS', 'T-SNE', 'UMAP', 'ISO', 'LLE'],\n",
       " 'coil20': ['MDS', 'T-SNE', 'UMAP', 'LLE', 'ISO'],\n",
       " 'epileptic': ['MDS', 'ISO', 'T-SNE', 'LLE', 'UMAP'],\n",
       " 'fashion_mnist': ['MDS', 'ISO', 'T-SNE', 'UMAP', 'LLE'],\n",
       " 'fmd': ['MDS', 'T-SNE', 'ISO', 'UMAP', 'LLE'],\n",
       " 'har': ['MDS', 'T-SNE', 'ISO', 'UMAP', 'LLE'],\n",
       " 'hatespeech': ['MDS', 'T-SNE', 'ISO', 'LLE', 'UMAP'],\n",
       " 'hiva': ['MDS', 'T-SNE', 'UMAP', 'ISO', 'LLE'],\n",
       " 'imdb': ['MDS', 'T-SNE', 'UMAP', 'LLE', 'ISO'],\n",
       " 'orl': ['MDS', 'UMAP', 'T-SNE', 'ISO', 'LLE'],\n",
       " 'secom': ['MDS', 'T-SNE', 'UMAP', 'ISO', 'LLE'],\n",
       " 'seismic': ['MDS', 'T-SNE', 'UMAP', 'ISO', 'LLE'],\n",
       " 'sentiment': ['MDS', 'T-SNE', 'UMAP', 'ISO', 'LLE'],\n",
       " 'sms': ['MDS', 'T-SNE', 'UMAP', 'ISO', 'LLE'],\n",
       " 'svhn': ['MDS', 'ISO', 'T-SNE', 'LLE', 'UMAP']}"
      ]
     },
     "execution_count": 9,
     "metadata": {},
     "output_type": "execute_result"
    }
   ],
   "source": [
    "orders_scale"
   ]
  },
  {
   "cell_type": "code",
   "execution_count": 10,
   "metadata": {},
   "outputs": [],
   "source": [
    "stab = \" & Espadato order & Scale-normalized order \\\\\\\\ \\\\hline \\n\"\n",
    "for dataset in orders.keys():\n",
    "    stab += f\"{str(dataset)} & \" + \",\".join(orders[dataset]) + \" & \" + \",\".join(orders_scale[dataset]) + \"\\\\\\\\ \\n\""
   ]
  },
  {
   "cell_type": "code",
   "execution_count": 11,
   "metadata": {},
   "outputs": [
    {
     "name": "stdout",
     "output_type": "stream",
     "text": [
      " & Espadato order & Scale-normalized order \\\\ \\hline \n",
      "bank & MDS,ISO,LLE,UMAP,T-SNE & MDS,T-SNE,ISO,UMAP,LLE\\\\ \n",
      "cifar10 & MDS,ISO,UMAP,LLE,T-SNE & MDS,ISO,T-SNE,UMAP,LLE\\\\ \n",
      "cnae9 & MDS,ISO,LLE,UMAP,T-SNE & MDS,T-SNE,UMAP,ISO,LLE\\\\ \n",
      "coil20 & MDS,LLE,UMAP,ISO,T-SNE & MDS,T-SNE,UMAP,LLE,ISO\\\\ \n",
      "epileptic & MDS,ISO,LLE,T-SNE,UMAP & MDS,ISO,T-SNE,LLE,UMAP\\\\ \n",
      "fashion_mnist & MDS,UMAP,LLE,ISO,T-SNE & MDS,ISO,T-SNE,UMAP,LLE\\\\ \n",
      "fmd & MDS,ISO,T-SNE,LLE,UMAP & MDS,T-SNE,ISO,UMAP,LLE\\\\ \n",
      "har & MDS,LLE,UMAP,ISO,T-SNE & MDS,T-SNE,ISO,UMAP,LLE\\\\ \n",
      "hatespeech & MDS,LLE,ISO,UMAP,T-SNE & MDS,T-SNE,ISO,LLE,UMAP\\\\ \n",
      "hiva & MDS,UMAP,ISO,LLE,T-SNE & MDS,T-SNE,UMAP,ISO,LLE\\\\ \n",
      "imdb & MDS,T-SNE,ISO,LLE,UMAP & MDS,T-SNE,UMAP,LLE,ISO\\\\ \n",
      "orl & MDS,ISO,LLE,T-SNE,UMAP & MDS,UMAP,T-SNE,ISO,LLE\\\\ \n",
      "secom & MDS,LLE,UMAP,ISO,T-SNE & MDS,T-SNE,UMAP,ISO,LLE\\\\ \n",
      "seismic & MDS,LLE,ISO,UMAP,T-SNE & MDS,T-SNE,UMAP,ISO,LLE\\\\ \n",
      "sentiment & MDS,LLE,ISO,UMAP,T-SNE & MDS,T-SNE,UMAP,ISO,LLE\\\\ \n",
      "sms & MDS,ISO,LLE,T-SNE,UMAP & MDS,T-SNE,UMAP,ISO,LLE\\\\ \n",
      "svhn & MDS,UMAP,ISO,LLE,T-SNE & MDS,ISO,T-SNE,LLE,UMAP\\\\ \n",
      "\n"
     ]
    }
   ],
   "source": [
    "print(stab)"
   ]
  },
  {
   "cell_type": "code",
   "execution_count": 84,
   "metadata": {},
   "outputs": [],
   "source": [
    "import pylab as plt"
   ]
  },
  {
   "cell_type": "code",
   "execution_count": 85,
   "metadata": {},
   "outputs": [],
   "source": [
    "alg_map = {\n",
    "    \"MDS\": 0, \n",
    "    \"T-SNE\": 1, \n",
    "    \"UMAP\": 2, \n",
    "    \"LLE\" :3,\n",
    "    \"ISO\": 4\n",
    "}"
   ]
  },
  {
   "cell_type": "code",
   "execution_count": 86,
   "metadata": {},
   "outputs": [
    {
     "data": {
      "text/plain": [
       "{'bank': [0, 4, 3, 2, 1],\n",
       " 'cifar10': [0, 4, 2, 3, 1],\n",
       " 'cnae9': [0, 4, 3, 2, 1],\n",
       " 'coil20': [0, 3, 2, 4, 1],\n",
       " 'epileptic': [0, 4, 3, 1, 2],\n",
       " 'fashion_mnist': [0, 2, 3, 4, 1],\n",
       " 'fmd': [0, 4, 1, 3, 2],\n",
       " 'har': [0, 3, 2, 4, 1],\n",
       " 'hatespeech': [0, 3, 4, 2, 1],\n",
       " 'hiva': [0, 2, 4, 3, 1],\n",
       " 'imdb': [0, 1, 4, 3, 2],\n",
       " 'orl': [0, 4, 3, 1, 2],\n",
       " 'secom': [0, 3, 2, 4, 1],\n",
       " 'seismic': [0, 3, 4, 2, 1],\n",
       " 'sentiment': [0, 3, 4, 2, 1],\n",
       " 'sms': [0, 4, 3, 1, 2],\n",
       " 'svhn': [0, 2, 4, 3, 1]}"
      ]
     },
     "execution_count": 86,
     "metadata": {},
     "output_type": "execute_result"
    }
   ],
   "source": [
    "orders = {key: [alg_map[val] for val in order] for key,order in orders.items()}\n",
    "orders"
   ]
  },
  {
   "cell_type": "code",
   "execution_count": 92,
   "metadata": {},
   "outputs": [
    {
     "data": {
      "text/plain": [
       "array([[0, 4, 3, 2, 1],\n",
       "       [0, 4, 2, 3, 1],\n",
       "       [0, 4, 3, 2, 1],\n",
       "       [0, 3, 2, 4, 1],\n",
       "       [0, 4, 3, 1, 2],\n",
       "       [0, 2, 3, 4, 1],\n",
       "       [0, 4, 1, 3, 2],\n",
       "       [0, 3, 2, 4, 1],\n",
       "       [0, 3, 4, 2, 1],\n",
       "       [0, 2, 4, 3, 1],\n",
       "       [0, 1, 4, 3, 2],\n",
       "       [0, 4, 3, 1, 2],\n",
       "       [0, 3, 2, 4, 1],\n",
       "       [0, 3, 4, 2, 1],\n",
       "       [0, 3, 4, 2, 1],\n",
       "       [0, 4, 3, 1, 2],\n",
       "       [0, 2, 4, 3, 1]])"
      ]
     },
     "execution_count": 92,
     "metadata": {},
     "output_type": "execute_result"
    }
   ],
   "source": [
    "bottoms = np.array(list(orders.values()))\n",
    "bottoms"
   ]
  },
  {
   "cell_type": "code",
   "execution_count": 116,
   "metadata": {},
   "outputs": [
    {
     "data": {
      "image/png": "[encoded data removed]",
      "text/plain": [
       "<Figure size 640x480 with 1 Axes>"
      ]
     },
     "metadata": {},
     "output_type": "display_data"
    }
   ],
   "source": [
    "datasets = list(orders.keys())[::-1]\n",
    "weight_counts = {\n",
    "    \"MDS\": [0.9 for _ in range(len(datasets)*2)],\n",
    "    \"t-SNE\": [0.9 for _ in range(len(datasets)*2)],\n",
    "    \"UMAP\": [0.9 for _ in range(len(datasets)*2)],\n",
    "    \"LLE\": [0.9 for _ in range(len(datasets)*2)], \n",
    "    \"ISO\": [0.9 for _ in range(len(datasets)*2)]\n",
    "}\n",
    "width = 0.5\n",
    "\n",
    "fig, ax = plt.subplots()\n",
    "\n",
    "ys = list()\n",
    "for i in range(len(datasets)):\n",
    "    ys.append(3*i)\n",
    "    ys.append(3*i+1)\n",
    "\n",
    "for i,(boolean, weight_count) in enumerate(weight_counts.items()):\n",
    "    bottom = bottoms.T[i]\n",
    "    p = ax.barh(ys, weight_count, width, label=boolean, left=bottom)\n",
    "    # bottom += weight_count\n",
    "\n",
    "ax.set_title(\"Number of penguins with above average body mass\")\n",
    "ax.legend(loc=\"upper right\")\n",
    "ax.set_xticks([])\n",
    "\n",
    "plt.show()"
   ]
  },
  {
   "cell_type": "code",
   "execution_count": 95,
   "metadata": {},
   "outputs": [
    {
     "data": {
      "text/plain": [
       "(17, 5)"
      ]
     },
     "execution_count": 95,
     "metadata": {},
     "output_type": "execute_result"
    }
   ],
   "source": [
    "bottoms.shape"
   ]
  }
 ],
 "metadata": {
  "kernelspec": {
   "display_name": "gt",
   "language": "python",
   "name": "python3"
  },
  "language_info": {
   "codemirror_mode": {
    "name": "ipython",
    "version": 3
   },
   "file_extension": ".py",
   "mimetype": "text/x-python",
   "name": "python",
   "nbconvert_exporter": "python",
   "pygments_lexer": "ipython3",
   "version": "3.10.4"
  }
 },
 "nbformat": 4,
 "nbformat_minor": 2
}
